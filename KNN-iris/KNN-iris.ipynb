{
  "nbformat": 4,
  "nbformat_minor": 0,
  "metadata": {
    "colab": {
      "name": "Untitled2.ipynb",
      "provenance": [],
      "collapsed_sections": [],
      "authorship_tag": "ABX9TyOMbwO5GMSGOFiE/VLpBCLV",
      "include_colab_link": true
    },
    "kernelspec": {
      "name": "python3",
      "display_name": "Python 3"
    },
    "language_info": {
      "name": "python"
    }
  },
  "cells": [
    {
      "cell_type": "markdown",
      "metadata": {
        "id": "view-in-github",
        "colab_type": "text"
      },
      "source": [
        "<a href=\"https://colab.research.google.com/github/HosseinSadeghi-dev/machine-learning/blob/main/KNN-iris/KNN-iris.ipynb\" target=\"_parent\"><img src=\"https://colab.research.google.com/assets/colab-badge.svg\" alt=\"Open In Colab\"/></a>"
      ]
    },
    {
      "cell_type": "code",
      "metadata": {
        "id": "GaET9hz0tHOa"
      },
      "source": [
        "import numpy as np\n",
        "import pandas as pd\n",
        "import matplotlib.pyplot as plt\n",
        "import seaborn\n",
        "from sklearn.model_selection import train_test_split\n",
        "from sklearn.datasets import load_iris"
      ],
      "execution_count": 8,
      "outputs": []
    },
    {
      "cell_type": "code",
      "metadata": {
        "id": "JV-EIi829p-q"
      },
      "source": [
        "class MyKNearestNeighbors:\n",
        "    def __init__(self, k):\n",
        "        self.k = k\n",
        "        self.x_train = None\n",
        "        self.y_train = None\n",
        "        self.number_class = None\n",
        "\n",
        "    # train\n",
        "    def fit(self, x_train, y_train):\n",
        "        self.x_train = x_train\n",
        "        self.y_train = y_train\n",
        "        self.number_class = len(np.unique(y_train))\n",
        "\n",
        "    def nearest_neighbors(self, x_test):\n",
        "        distance = np.sqrt(np.sum((x_test - self.x_train) ** 2, axis=1))\n",
        "        near_neighbor = np.argsort(distance)[0:self.k]\n",
        "        return near_neighbor\n",
        "\n",
        "    # test\n",
        "    def predict(self, x_test):\n",
        "        near_neighbor = self.nearest_neighbors(x_test)\n",
        "        return np.argmax(np.bincount(self.y_train[near_neighbor]))\n",
        "\n",
        "    def evaluate(self, x_test, y_test):\n",
        "        y_pred = []\n",
        "        for i in range(len(x_test)):\n",
        "            y = self.predict(x_test[i])\n",
        "            y_pred.append(y)\n",
        "        not_correct = abs(sum(y_pred - y_test))\n",
        "        return (y_pred, y_test), ((((len(y_pred) - not_correct) * 100) / len(y_pred)) / 100)"
      ],
      "execution_count": 9,
      "outputs": []
    },
    {
      "cell_type": "code",
      "metadata": {
        "colab": {
          "base_uri": "https://localhost:8080/",
          "height": 282
        },
        "id": "1kYzq1Ix9yrX",
        "outputId": "9667d955-d2a7-4112-b603-3e389a8d58c3"
      },
      "source": [
        "IRIS = load_iris()\n",
        "X = IRIS.data\n",
        "Y = IRIS.target\n",
        "N = (len(X) // len(IRIS.target_names))\n",
        "X_train, X_test, Y_train, Y_test = train_test_split(X, Y, test_size=0.2)\n",
        "\n",
        "plt.scatter(X[0:N, 1], X[0:N, 0], c='red')\n",
        "plt.scatter(X[N:2 * N, 1], X[N:2 * N, 0], c='green')\n",
        "plt.scatter(X[2 * N:3 * N, 1], X[2 * N:3 * N, 0], c='blue')"
      ],
      "execution_count": 14,
      "outputs": [
        {
          "output_type": "execute_result",
          "data": {
            "text/plain": [
              "<matplotlib.collections.PathCollection at 0x7fc969013590>"
            ]
          },
          "metadata": {},
          "execution_count": 14
        },
        {
          "output_type": "display_data",
          "data": {
            "image/png": "[encoded data removed]",
            "text/plain": [
              "<Figure size 432x288 with 1 Axes>"
            ]
          },
          "metadata": {
            "needs_background": "light"
          }
        }
      ]
    },
    {
      "cell_type": "code",
      "metadata": {
        "colab": {
          "base_uri": "https://localhost:8080/",
          "height": 416
        },
        "id": "7zIj_zIC-GRZ",
        "outputId": "bdc8e971-9fa7-4093-8cb1-91410ecbece3"
      },
      "source": [
        "K = [1, 3, 5, 7, 9, 11, 13, 15]\n",
        "result = []\n",
        "\n",
        "for i in K:\n",
        "    knn = MyKNearestNeighbors(i)\n",
        "    knn.fit(X_train, Y_train)\n",
        "    result.append([i, knn.evaluate(X_test, Y_test)[1]])\n",
        "\n",
        "result = np.array(result)\n",
        "\n",
        "plt.bar(result[:, 0], result[:, 1])"
      ],
      "execution_count": 15,
      "outputs": [
        {
          "output_type": "stream",
          "text": [
            "0.9666666666666667\n",
            "0.9666666666666667\n",
            "0.9666666666666667\n",
            "1.0\n",
            "0.9333333333333332\n",
            "0.9333333333333332\n",
            "0.9\n",
            "0.8666666666666667\n"
          ],
          "name": "stdout"
        },
        {
          "output_type": "execute_result",
          "data": {
            "text/plain": [
              "<BarContainer object of 8 artists>"
            ]
          },
          "metadata": {},
          "execution_count": 15
        },
        {
          "output_type": "display_data",
          "data": {
            "image/png": "[encoded data removed]",
            "text/plain": [
              "<Figure size 432x288 with 1 Axes>"
            ]
          },
          "metadata": {
            "needs_background": "light"
          }
        }
      ]
    },
    {
      "cell_type": "code",
      "metadata": {
        "colab": {
          "base_uri": "https://localhost:8080/",
          "height": 478
        },
        "id": "tsWAN05O94In",
        "outputId": "d294cdd1-94ab-41ad-cc99-ff10c5d6360e"
      },
      "source": [
        "knn5 = MyKNearestNeighbors(5)\n",
        "knn5.fit(X_train, Y_train)\n",
        "res_y_pred = knn5.evaluate(X_test, Y_test)[0][0]\n",
        "res_y_test = knn5.evaluate(X_test, Y_test)[0][1]\n",
        "\n",
        "set_set = 0\n",
        "set_ver = 0\n",
        "set_vir = 0\n",
        "vir_set = 0\n",
        "vir_ver = 0\n",
        "vir_vir = 0\n",
        "ver_set = 0\n",
        "ver_ver = 0\n",
        "ver_vir = 0\n",
        "\n",
        "for i in range(len(res_y_pred)):\n",
        "    if res_y_pred[i] == 0 and res_y_test[i] == 0:\n",
        "        set_set += 1\n",
        "    elif res_y_pred[i] == 1 and res_y_test[i] == 1:\n",
        "        ver_ver += 1\n",
        "    elif res_y_pred[i] == 2 and res_y_test[i] == 2:\n",
        "        vir_vir += 1\n",
        "    elif res_y_pred[i] == 0 and res_y_test[i] == 1:\n",
        "        set_ver += 1\n",
        "    elif res_y_pred[i] == 0 and res_y_test[i] == 2:\n",
        "        set_vir += 1\n",
        "    elif res_y_pred[i] == 2 and res_y_test[i] == 0:\n",
        "        vir_set += 1\n",
        "    elif res_y_pred[i] == 2 and res_y_test[i] == 1:\n",
        "        vir_ver += 1\n",
        "    elif res_y_pred[i] == 1 and res_y_test[i] == 0:\n",
        "        ver_set += 1\n",
        "    else:\n",
        "        ver_vir += 1\n",
        "\n",
        "result = np.array([[set_set, set_ver, set_vir],\n",
        "                   [ver_set, ver_ver, ver_vir],\n",
        "                   [vir_set, vir_ver, vir_vir]])\n",
        "\n",
        "df_cm = pd.DataFrame(result, index=[i for i in ['setosa', 'versicolor', 'virginica']],\n",
        "                     columns=[i for i in ['setosa', 'versicolor', 'virginica']])\n",
        "plt.figure(figsize=(10, 7))\n",
        "seaborn.heatmap(df_cm, annot=True)"
      ],
      "execution_count": 11,
      "outputs": [
        {
          "output_type": "stream",
          "text": [
            "1.0\n",
            "1.0\n"
          ],
          "name": "stdout"
        },
        {
          "output_type": "execute_result",
          "data": {
            "text/plain": [
              "<matplotlib.axes._subplots.AxesSubplot at 0x7fc968db7490>"
            ]
          },
          "metadata": {},
          "execution_count": 11
        },
        {
          "output_type": "display_data",
          "data": {
            "image/png": "[encoded data removed]",
            "text/plain": [
              "<Figure size 720x504 with 2 Axes>"
            ]
          },
          "metadata": {
            "needs_background": "light"
          }
        }
      ]
    }
  ]
}