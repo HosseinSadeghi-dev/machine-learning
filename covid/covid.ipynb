{
  "nbformat": 4,
  "nbformat_minor": 0,
  "metadata": {
    "colab": {
      "name": "Untitled2.ipynb",
      "provenance": [],
      "authorship_tag": "ABX9TyNVkpEW82+04WBOFOo0Bk9P",
      "include_colab_link": true
    },
    "kernelspec": {
      "name": "python3",
      "display_name": "Python 3"
    },
    "language_info": {
      "name": "python"
    }
  },
  "cells": [
    {
      "cell_type": "markdown",
      "metadata": {
        "id": "view-in-github",
        "colab_type": "text"
      },
      "source": [
        "<a href=\"https://colab.research.google.com/github/HosseinSadeghi-dev/machine-learning/blob/main/covid/covid.ipynb\" target=\"_parent\"><img src=\"https://colab.research.google.com/assets/colab-badge.svg\" alt=\"Open In Colab\"/></a>"
      ]
    },
    {
      "cell_type": "code",
      "metadata": {
        "id": "GaET9hz0tHOa"
      },
      "source": [
        "import pandas as pd\n",
        "import matplotlib.pyplot as plt\n",
        "\n",
        "data = pd.read_csv('COVID-19-time-series-clean-complete.csv')"
      ],
      "execution_count": null,
      "outputs": []
    },
    {
      "cell_type": "code",
      "metadata": {
        "id": "Dy1bnmXZtH5E"
      },
      "source": [
        "data['Date'] = pd.to_datetime(data['Date'])\n",
        "data['temp'] = data['Date'].map(lambda date: (100 * date.year) + date.month)\n",
        "month = data.loc[(data['temp'] == 202004)]\n",
        "_temp = month.sort_values(by=['Confirmed'], ascending=False)\n",
        "x = month.groupby('Country/Region')['Confirmed'] \\\n",
        "    .sum() \\\n",
        "    .reset_index() \\\n",
        "    .sort_values(by=['Confirmed'], ascending=False)\n",
        "x.head(8)"
      ],
      "execution_count": null,
      "outputs": []
    },
    {
      "cell_type": "code",
      "metadata": {
        "id": "g5D6hWxftIE4"
      },
      "source": [
        "iran = data.loc[(data['Country/Region'] == 'Iran')]\n",
        "plt.figure(figsize=(18, 9))\n",
        "plt.plot(iran['Date'].to_numpy(dtype=str), iran['New Cases'], marker='O')\n",
        "plt.plot(iran['Date'].to_numpy(dtype=str), iran['New RIPs'], marker='O')"
      ],
      "execution_count": null,
      "outputs": []
    }
  ]
}