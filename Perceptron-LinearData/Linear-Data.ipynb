{
  "nbformat": 4,
  "nbformat_minor": 0,
  "metadata": {
    "colab": {
      "name": "Untitled2.ipynb",
      "provenance": [],
      "collapsed_sections": [],
      "authorship_tag": "ABX9TyMFxkeheN391g8YU35CAnuI",
      "include_colab_link": true
    },
    "kernelspec": {
      "name": "python3",
      "display_name": "Python 3"
    },
    "language_info": {
      "name": "python"
    }
  },
  "cells": [
    {
      "cell_type": "markdown",
      "metadata": {
        "id": "view-in-github",
        "colab_type": "text"
      },
      "source": [
        "<a href=\"https://colab.research.google.com/github/HosseinSadeghi-dev/machine-learning/blob/main/Perceptron-LinearData/Linear-Data.ipynb\" target=\"_parent\"><img src=\"https://colab.research.google.com/assets/colab-badge.svg\" alt=\"Open In Colab\"/></a>"
      ]
    },
    {
      "cell_type": "code",
      "metadata": {
        "id": "GaET9hz0tHOa"
      },
      "source": [
        "import numpy as np\n",
        "from sklearn.model_selection import train_test_split\n",
        "from sklearn.datasets import load_iris\n",
        "from numpy.linalg import inv"
      ],
      "execution_count": 10,
      "outputs": []
    },
    {
      "cell_type": "code",
      "metadata": {
        "id": "UJLVxH7C6Y6G"
      },
      "source": [
        "class AdalineRegressor:\n",
        "    def __init__(self):\n",
        "        self.w = None\n",
        "\n",
        "    def fit(self, X_train, Y_train):\n",
        "        self.w = np.matmul(inv(np.matmul(X_train.T, X_train)), np.matmul(X_train.T, Y_train))\n",
        "\n",
        "    def predict(self, X_test):\n",
        "        return np.matmul(X_test, self.w)\n",
        "\n",
        "    def evaluation(self, X_test, Y_test):\n",
        "        subtract = np.abs(Y_test - np.matmul(X_test, self.w))\n",
        "        average = np.mean(subtract)\n",
        "\n",
        "        mae = np.mean(subtract)\n",
        "        mse = np.mean(subtract ** 2)\n",
        "\n",
        "        return average, mae, mse\n"
      ],
      "execution_count": 12,
      "outputs": []
    },
    {
      "cell_type": "code",
      "metadata": {
        "id": "OeRXI0va8XPV"
      },
      "source": [
        "class MyKNearestNeighbors:\n",
        "    def __init__(self, k):\n",
        "        self.k = k\n",
        "        self.x_train = None\n",
        "        self.y_train = None\n",
        "        self.number_class = None\n",
        "\n",
        "    # train\n",
        "    def fit(self, x_train, y_train):\n",
        "        self.x_train = x_train\n",
        "        self.y_train = y_train\n",
        "        self.number_class = len(np.unique(y_train))\n",
        "\n",
        "    def nearest_neighbors(self, x_test):\n",
        "        distance = np.sqrt(np.sum((x_test - self.x_train) ** 2, axis=1))\n",
        "        near_neighbor = np.argsort(distance)[0:self.k]\n",
        "        return near_neighbor\n",
        "\n",
        "    # test\n",
        "    def predict(self, x_test):\n",
        "        near_neighbor = self.nearest_neighbors(x_test)\n",
        "        return np.argmax(np.bincount(self.y_train[near_neighbor]))\n",
        "\n",
        "    def evaluate(self, x_test, y_test):\n",
        "        y_pred = []\n",
        "        for i in range(len(x_test)):\n",
        "            y = self.predict(x_test[i])\n",
        "            y_pred.append(y)\n",
        "        not_correct = abs(sum(y_pred - y_test))\n",
        "        print((((len(y_pred) - not_correct) * 100) / len(y_pred)) / 100)\n",
        "        return (y_pred, y_test), ((((len(y_pred) - not_correct) * 100) / len(y_pred)) / 100)"
      ],
      "execution_count": 11,
      "outputs": []
    },
    {
      "cell_type": "code",
      "metadata": {
        "id": "kLeVjnpf8cvV"
      },
      "source": [
        "IRIS = load_iris()\n",
        "X = []\n",
        "Y = []\n",
        "\n",
        "for i, t in enumerate(IRIS.target):\n",
        "    if t == 2:\n",
        "        break\n",
        "    X.append(IRIS.data[i])\n",
        "    Y.append(IRIS.target[i])\n",
        "\n",
        "X_train, X_test, Y_train, Y_test = train_test_split(np.array(X), np.array(Y), test_size=0.2)"
      ],
      "execution_count": 13,
      "outputs": []
    },
    {
      "cell_type": "code",
      "metadata": {
        "colab": {
          "base_uri": "https://localhost:8080/"
        },
        "id": "PA7vnwwc8edR",
        "outputId": "f933e920-e884-404f-a0aa-c70e8dfa65b7"
      },
      "source": [
        "model = AdalineRegressor()\n",
        "model.fit(X_train, Y_train)\n",
        "Y_pred = model.predict(X_test)\n",
        "result = model.evaluation(X_test, Y_test)\n",
        "print('evaluation= ', result[0], ' Accuracy= ', result[1])"
      ],
      "execution_count": 14,
      "outputs": [
        {
          "output_type": "stream",
          "name": "stdout",
          "text": [
            "evaluation=  0.05788285076086837  Accuracy=  0.05788285076086837\n"
          ]
        }
      ]
    },
    {
      "cell_type": "code",
      "metadata": {
        "colab": {
          "base_uri": "https://localhost:8080/"
        },
        "id": "6qiuyEC-8h3b",
        "outputId": "ac5815ed-bfcf-4ed9-d05d-80bc6b90617c"
      },
      "source": [
        "knn = MyKNearestNeighbors(5)\n",
        "knn.fit(X_train, Y_train)\n",
        "\n",
        "print('k= 5  Accuracy=', knn.evaluate(X_test, Y_test))"
      ],
      "execution_count": 15,
      "outputs": [
        {
          "output_type": "stream",
          "name": "stdout",
          "text": [
            "1.0\n",
            "k= 5  Accuracy= (([0, 0, 0, 1, 1, 0, 0, 0, 0, 1, 1, 0, 0, 1, 0, 1, 0, 1, 1, 0], array([0, 0, 0, 1, 1, 0, 0, 0, 0, 1, 1, 0, 0, 1, 0, 1, 0, 1, 1, 0])), 1.0)\n"
          ]
        }
      ]
    }
  ]
}