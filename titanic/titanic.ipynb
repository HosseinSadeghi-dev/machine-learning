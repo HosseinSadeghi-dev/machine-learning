{
  "nbformat": 4,
  "nbformat_minor": 0,
  "metadata": {
    "colab": {
      "name": "Untitled2.ipynb",
      "provenance": [],
      "authorship_tag": "ABX9TyO0Vc3MXMKy+kGcDSpATOSo",
      "include_colab_link": true
    },
    "kernelspec": {
      "name": "python3",
      "display_name": "Python 3"
    },
    "language_info": {
      "name": "python"
    }
  },
  "cells": [
    {
      "cell_type": "markdown",
      "metadata": {
        "id": "view-in-github",
        "colab_type": "text"
      },
      "source": [
        "<a href=\"https://colab.research.google.com/github/HosseinSadeghi-dev/machine-learning/blob/main/titanic/titanic.ipynb\" target=\"_parent\"><img src=\"https://colab.research.google.com/assets/colab-badge.svg\" alt=\"Open In Colab\"/></a>"
      ]
    },
    {
      "cell_type": "code",
      "metadata": {
        "id": "GaET9hz0tHOa"
      },
      "source": [
        "import pandas as pd\n",
        "import matplotlib.pyplot as plt\n",
        "\n",
        "data = pd.read_csv('titanic.csv')\n"
      ],
      "execution_count": null,
      "outputs": []
    },
    {
      "cell_type": "code",
      "metadata": {
        "id": "Dy1bnmXZtH5E"
      },
      "source": [
        "plt.hist(data.loc[(data['Sex'] == 'female') & (data['Age']), 'Age'], bins=30, density=True, color='tab:red',\n",
        "         label='female')\n",
        "plt.hist(data.loc[(data['Sex'] == 'male') & (data['Age']), 'Age'], bins=30, density=True, color='tab:blue',\n",
        "         label='male')\n",
        "plt.legend(frameon=False)\n",
        "plt.xlabel('age')"
      ],
      "execution_count": null,
      "outputs": []
    },
    {
      "cell_type": "code",
      "metadata": {
        "id": "g5D6hWxftIE4"
      },
      "source": [
        "plt.hist(data.loc[(data['Pclass'] == 1) & (data['Fare']), 'Fare'], bins=5, density=True, color='tab:red',\n",
        "         label='Pclass 1')\n",
        "plt.hist(data.loc[(data['Pclass'] == 2) & (data['Fare']), 'Fare'], bins=5, density=True, color='tab:green',\n",
        "         label='Pclass 2')\n",
        "plt.hist(data.loc[(data['Pclass'] == 3) & (data['Fare']), 'Fare'], bins=5, density=True, color='tab:red',\n",
        "         label='Pclass 3')\n",
        "\n",
        "plt.legend(frameon=False)\n",
        "plt.xlabel('fare')"
      ],
      "execution_count": null,
      "outputs": []
    }
  ]
}